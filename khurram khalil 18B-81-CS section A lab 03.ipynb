{
 "cells": [
  {
   "cell_type": "markdown",
   "metadata": {},
   "source": [
    "# PROBLEM NO 06"
   ]
  },
  {
   "cell_type": "code",
   "execution_count": 2,
   "metadata": {},
   "outputs": [
    {
     "name": "stdout",
     "output_type": "stream",
     "text": [
      "the initial velocity of the car is(in miles per hour) : 50\n",
      "the acceleration of the car is(in miles/hour**square) : 10\n",
      "time given of the event is (in hours) : 2\n",
      "the car travells : 120.0 meters from that point in next 2 hours\n"
     ]
    }
   ],
   "source": [
    "#data\n",
    "#known\n",
    "ini_velocity = float(input('the initial velocity of the car is(in miles per hour) : '))\n",
    "acceleration = float(input('the acceleration of the car is(in miles/hour**square) : '))\n",
    "time = float(input('time given of the event is (in hours) : '))\n",
    "#the distance that car covers is unknown\n",
    "#formula\n",
    "distance = (ini_velocity*time)+(1/2)*(acceleration)*(time**2)\n",
    "#result\n",
    "print('the car travells :', distance, 'meters from that point in next 2 hours')"
   ]
  },
  {
   "cell_type": "markdown",
   "metadata": {},
   "source": [
    "# PROBLEM NO 07"
   ]
  },
  {
   "cell_type": "code",
   "execution_count": 3,
   "metadata": {},
   "outputs": [
    {
     "name": "stdout",
     "output_type": "stream",
     "text": [
      "the initial velocity of the stone is(in ft/s) : 0\n",
      "the gravitational attraction to the stone is(in ft/sec**2) : 32\n",
      "the height of the tower is (in ft) : 100\n",
      "the final velocity of the stone is(in ft/sec) : 80.0\n"
     ]
    }
   ],
   "source": [
    "#data\n",
    "#known\n",
    "#when the any body is droped it has 0 initial velocty\n",
    "ini_velocity= float(input('the initial velocity of the stone is(in ft/s) : '))\n",
    "#when the body is dropped from some height its acceleration changes into gravity\n",
    "gravity = float(input('the gravitational attraction to the stone is(in ft/sec**2) : '))\n",
    "height = float(input('the height of the tower is (in ft) : '))\n",
    "#the final velocity of the stone is unknown\n",
    "#Formula\n",
    "import math\n",
    "final_velocity = math.sqrt((2*gravity*height)+(ini_velocity)**2)\n",
    "#result\n",
    "print('the final velocity of the stone is(in ft/sec) :', final_velocity)\n",
    "\n"
   ]
  },
  {
   "cell_type": "code",
   "execution_count": null,
   "metadata": {},
   "outputs": [],
   "source": []
  }
 ],
 "metadata": {
  "kernelspec": {
   "display_name": "Python 3",
   "language": "python",
   "name": "python3"
  },
  "language_info": {
   "codemirror_mode": {
    "name": "ipython",
    "version": 3
   },
   "file_extension": ".py",
   "mimetype": "text/x-python",
   "name": "python",
   "nbconvert_exporter": "python",
   "pygments_lexer": "ipython3",
   "version": "3.6.5"
  }
 },
 "nbformat": 4,
 "nbformat_minor": 2
}
